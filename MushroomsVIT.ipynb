{
  "nbformat": 4,
  "nbformat_minor": 0,
  "metadata": {
    "colab": {
      "provenance": [],
      "gpuType": "T4"
    },
    "kernelspec": {
      "name": "python3",
      "display_name": "Python 3"
    },
    "language_info": {
      "name": "python"
    },
    "accelerator": "GPU"
  },
  "cells": [
    {
      "cell_type": "code",
      "source": [
        "import os\n",
        "import torch\n",
        "import torch.nn as nn\n",
        "import torch.optim as optim\n",
        "from torch.utils.data import Dataset, DataLoader, random_split\n",
        "from PIL import Image\n",
        "import numpy as np\n",
        "from torchvision import transforms\n",
        "from tqdm import tqdm\n",
        "import timm\n",
        "import matplotlib.pyplot as plt"
      ],
      "metadata": {
        "id": "AuZIyJ4xicCv"
      },
      "execution_count": 12,
      "outputs": []
    },
    {
      "cell_type": "code",
      "source": [
        "# os.environ[\"CUDA_LAUNCH_BLOCKING\"] = \"1\"\n",
        "# os.environ['TORCH_USE_CUDA_DSA'] = \"1\""
      ],
      "metadata": {
        "id": "IUagaMoe4W7V"
      },
      "execution_count": 2,
      "outputs": []
    },
    {
      "cell_type": "code",
      "source": [
        "# importing the zipfile module\n",
        "from zipfile import ZipFile\n",
        "\n",
        "# loading the temp.zip and creating a zip object\n",
        "with ZipFile(\"/content/mushrooms_small.zip\", 'r') as zObject:\n",
        "\n",
        "    # Extracting all the members of the zip\n",
        "    # into a specific location.\n",
        "    zObject.extractall(\n",
        "        path=\"/content\")"
      ],
      "metadata": {
        "id": "WZbKflAuxsA4"
      },
      "execution_count": 3,
      "outputs": []
    },
    {
      "cell_type": "code",
      "source": [
        "class MushroomDataset(Dataset):\n",
        "    \"\"\"Кастомный датасет для работы с папками классов\"\"\"\n",
        "    def __init__(self, root_dir, transform=None, target_size=None):\n",
        "        \"\"\"\n",
        "        Args:\n",
        "            root_dir (str): Путь к папке с классами\n",
        "            transform: Первичная аугментации для изображений\n",
        "            target_size (tuple): Размер для ресайза изображений\n",
        "        \"\"\"\n",
        "        self.root_dir = root_dir\n",
        "        self.transform = transform\n",
        "        self.target_size = target_size\n",
        "\n",
        "        # Получаем список классов (папок)\n",
        "        self.ediable_cls = sorted([d for d in os.listdir(root_dir)   if os.path.isdir(os.path.join(root_dir, d))])\n",
        "        self.ediable2idx = {cls_name: idx for idx, cls_name in enumerate(self.ediable_cls)}\n",
        "\n",
        "        self.mushroom_cls = [os.listdir(os.path.join(root_dir, dir_name)) for dir_name in self.ediable_cls]\n",
        "        self.mushroom_cls = [d for mushdir in self.mushroom_cls for d in mushdir]\n",
        "        self.mushroom2idx = {cls_name: idx for idx, cls_name in enumerate(self.mushroom_cls)}\n",
        "\n",
        "\n",
        "        # Собираем все пути к изображениям\n",
        "        self.images = []\n",
        "        self.labels: list[dict] = []\n",
        "\n",
        "        for ed_name in self.ediable_cls:\n",
        "            ediable_dir = os.path.join(root_dir, ed_name)\n",
        "            ediable_id = self.ediable2idx[ed_name]\n",
        "\n",
        "            for mush_name in os.listdir(ediable_dir):\n",
        "                class_dir = os.path.join(ediable_dir, mush_name)\n",
        "                mush_id = self.mushroom2idx[mush_name]\n",
        "\n",
        "                for img_name in os.listdir(class_dir):\n",
        "                    if img_name.lower().endswith(('.png', '.jpg', '.jpeg', '.bmp', '.tiff')):\n",
        "                        img_path = os.path.join(class_dir, img_name)\n",
        "                        self.images.append(img_path)\n",
        "                        self.labels.append({'ed_id': ediable_id,\n",
        "                                            'mush_id': mush_id})\n",
        "\n",
        "\n",
        "    def __len__(self):\n",
        "        return len(self.images)\n",
        "\n",
        "    def __getitem__(self, idx):\n",
        "        img_path = self.images[idx]\n",
        "        label = self.labels[idx]\n",
        "\n",
        "        # Загружаем изображение\n",
        "        image = Image.open(img_path).convert('RGB')\n",
        "\n",
        "        # Ресайзим изображение\n",
        "        if self.target_size:\n",
        "            image = image.resize(self.target_size, Image.Resampling.LANCZOS)\n",
        "\n",
        "        # Применяем аугментации\n",
        "        if self.transform:\n",
        "            image = self.transform(image)\n",
        "\n",
        "        # image = image.view()\n",
        "\n",
        "        '''СТАВИМ ТОЛЬКО!!! ed_id '''\n",
        "        return image, label['ed_id']\n",
        "\n",
        "    def get_mushrooms_name(self):\n",
        "        \"\"\"Возвращает список имен видов грибов\"\"\"\n",
        "        return self.mushroom_cls\n",
        "\n",
        "    def get_ediable_name(self):\n",
        "        \"\"\"Возвращает список о съедобности\"\"\"\n",
        "        return self.ediable_cls"
      ],
      "metadata": {
        "id": "hX_8aqX2iHtL"
      },
      "execution_count": 4,
      "outputs": []
    },
    {
      "cell_type": "code",
      "execution_count": 5,
      "metadata": {
        "id": "-d_iwg5AwmSR"
      },
      "outputs": [],
      "source": [
        "def get_sinusoid_encoding(num_tokens, token_len):\n",
        "    \"\"\" Make Sinusoid Encoding Table\n",
        "\n",
        "        Args:\n",
        "            num_tokens (int): number of tokens\n",
        "            token_len (int): length of a token\n",
        "\n",
        "        Returns:\n",
        "            (torch.FloatTensor) sinusoidal position encoding table\n",
        "    \"\"\"\n",
        "\n",
        "    def get_position_angle_vec(i):\n",
        "        return [i / np.power(10000, 2 * (j // 2) / token_len) for j in range(token_len)]\n",
        "\n",
        "    sinusoid_table = np.array([get_position_angle_vec(i) for i in range(num_tokens)])\n",
        "    sinusoid_table[:, 0::2] = np.sin(sinusoid_table[:, 0::2])\n",
        "    sinusoid_table[:, 1::2] = np.cos(sinusoid_table[:, 1::2])\n",
        "\n",
        "    return torch.FloatTensor(sinusoid_table).unsqueeze(0)\n",
        "\n",
        "class Attention(nn.Module):\n",
        "    def __init__(self, dim, num_heads=8, qkv_bias=False, qk_scale=None, attn_drop=0., proj_drop=0.):\n",
        "        super().__init__()\n",
        "        self.num_heads = num_heads\n",
        "        head_dim = dim // num_heads\n",
        "        self.scale = qk_scale or head_dim ** -0.5\n",
        "\n",
        "        self.qkv = nn.Linear(dim, dim * 3, bias=qkv_bias)\n",
        "        self.attn_drop = nn.Dropout(attn_drop)\n",
        "        self.proj = nn.Linear(dim, dim)\n",
        "        self.proj_drop = nn.Dropout(proj_drop)\n",
        "\n",
        "    def forward(self, x):\n",
        "        B, N, C = x.shape\n",
        "        qkv = self.qkv(x).reshape(B, N, 3, self.num_heads, C // self.num_heads).permute(2, 0, 3, 1, 4)\n",
        "        q, k, v = qkv[0], qkv[1], qkv[2]   # make torchscript happy (cannot use tensor as tuple)\n",
        "\n",
        "        attn = (q @ k.transpose(-2, -1)) * self.scale\n",
        "        attn = attn.softmax(dim=-1)\n",
        "        attn = self.attn_drop(attn)\n",
        "\n",
        "        x = (attn @ v).transpose(1, 2).reshape(B, N, C)\n",
        "        x = self.proj(x)\n",
        "        x = self.proj_drop(x)\n",
        "        return x\n",
        "\n",
        "class NeuralNet(nn.Module):\n",
        "    def __init__(self,\n",
        "       in_chan: int,\n",
        "       hidden_chan =None,\n",
        "       out_chan =None,\n",
        "       act_layer = nn.GELU):\n",
        "        \"\"\" Neural Network Module\n",
        "\n",
        "            Args:\n",
        "                in_chan (int): number of channels (features) at input\n",
        "                hidden_chan (NoneFloat): number of channels (features) in the hidden layer;\n",
        "                                        if None, number of channels in hidden layer is the same as the number of input channels\n",
        "                out_chan (NoneFloat): number of channels (features) at output;\n",
        "                                        if None, number of output channels is same as the number of input channels\n",
        "                act_layer(nn.modules.activation): torch neural network layer class to use as activation\n",
        "        \"\"\"\n",
        "\n",
        "        super().__init__()\n",
        "\n",
        "        ## Define Number of Channels\n",
        "        hidden_chan = hidden_chan or in_chan\n",
        "        out_chan = out_chan or in_chan\n",
        "\n",
        "        ## Define Layers\n",
        "        self.fc1 = nn.Linear(in_chan, hidden_chan)\n",
        "        self.act = act_layer()\n",
        "        self.fc2 = nn.Linear(hidden_chan, out_chan)\n",
        "\n",
        "    def forward(self, x):\n",
        "        x = self.fc1(x)\n",
        "        x = self.act(x)\n",
        "        x = self.fc2(x)\n",
        "        return x\n",
        "\n",
        "class Encoding(nn.Module):\n",
        "    def __init__(self,\n",
        "       dim: int,\n",
        "       num_heads: int=1,\n",
        "       hidden_chan_mul: float=4.,\n",
        "       qkv_bias: bool=False,\n",
        "       qk_scale =None,\n",
        "       act_layer=nn.GELU,\n",
        "       norm_layer=nn.LayerNorm):\n",
        "\n",
        "        \"\"\" Encoding Block\n",
        "\n",
        "            Args:\n",
        "                dim (int): size of a single token\n",
        "                num_heads(int): number of attention heads in MSA\n",
        "                hidden_chan_mul (float): multiplier to determine the number of hidden channels (features) in the NeuralNet component\n",
        "                qkv_bias (bool): determines if the qkv layer learns an addative bias\n",
        "                qk_scale (NoneFloat): value to scale the queries and keys by;\n",
        "                                    if None, queries and keys are scaled by ``head_dim ** -0.5``\n",
        "                act_layer(nn.modules.activation): torch neural network layer class to use as activation\n",
        "                norm_layer(nn.modules.normalization): torch neural network layer class to use as normalization\n",
        "        \"\"\"\n",
        "\n",
        "        super().__init__()\n",
        "\n",
        "        ## Define Layers\n",
        "        self.norm1 = norm_layer(dim)\n",
        "        self.attn = Attention(dim=dim,\n",
        "                            num_heads=num_heads,\n",
        "                            qkv_bias=qkv_bias,\n",
        "                            qk_scale=qk_scale)\n",
        "        self.norm2 = norm_layer(dim)\n",
        "        self.neuralnet = NeuralNet(in_chan=dim,\n",
        "                                hidden_chan=int(dim*hidden_chan_mul),\n",
        "                                out_chan=dim,\n",
        "                                act_layer=act_layer)\n",
        "\n",
        "    def forward(self, x):\n",
        "        x = x + self.attn(self.norm1(x))\n",
        "        x = x + self.neuralnet(self.norm2(x))\n",
        "        return x\n",
        "\n",
        "class Patch_Tokenization(nn.Module):\n",
        "    def __init__(self,\n",
        "                img_size: tuple[int, int, int]=(3, 224, 244),\n",
        "                patch_size: int=16,\n",
        "                token_len: int=768,\n",
        "                batch: int = 32):\n",
        "\n",
        "        \"\"\" Patch Tokenization Module\n",
        "            Args:\n",
        "                img_size (tuple[int, int, int]): size of input (channels, height, width)\n",
        "                patch_size (int): the side length of a square patch\n",
        "                token_len (int): desired length of an output token\n",
        "        \"\"\"\n",
        "        super().__init__()\n",
        "\n",
        "        ## Defining Parameters\n",
        "        self.img_size = img_size\n",
        "        C, H, W = self.img_size\n",
        "        self.patch_size = patch_size\n",
        "        self.token_len = token_len\n",
        "        assert H % self.patch_size == 0, 'Height of image must be evenly divisible by patch size.'\n",
        "        assert W % self.patch_size == 0, 'Width of image must be evenly divisible by patch size.'\n",
        "        self.num_tokens = int((H / self.patch_size) * (W / self.patch_size))\n",
        "\n",
        "        ## Defining Layers\n",
        "        self.split = nn.Unfold(kernel_size=self.patch_size, stride=self.patch_size, padding=0)\n",
        "        self.project = nn.Linear((self.patch_size**2)*C, token_len)\n",
        "\n",
        "    def forward(self, x):\n",
        "        print(x.size())\n",
        "        x = self.split(x).transpose(1,2)\n",
        "        print(x.size())\n",
        "        x = self.project(x)\n",
        "        # print(x, '\\n', x.size())\n",
        "        return x\n",
        "\n",
        "class ViT_Backbone(nn.Module):\n",
        "    def __init__(self,\n",
        "                num_tokens,\n",
        "                preds: int=1,\n",
        "                token_len: int=768,\n",
        "                num_heads: int=4,\n",
        "                Encoding_hidden_chan_mul: float=4.,\n",
        "                depth: int=12,\n",
        "                qkv_bias=False,\n",
        "                qk_scale=None,\n",
        "                act_layer=nn.GELU,\n",
        "                norm_layer=nn.LayerNorm):\n",
        "\n",
        "        \"\"\" VisTransformer Backbone\n",
        "            Args:\n",
        "                preds (int): number of predictions to output\n",
        "                token_len (int): length of a token\n",
        "                num_heads(int): number of attention heads in MSA\n",
        "                Encoding_hidden_chan_mul (float): multiplier to determine the number of hidden channels (features) in the NeuralNet component of the Encoding Module\n",
        "                depth (int): number of encoding blocks in the model\n",
        "                qkv_bias (bool): determines if the qkv layer learns an addative bias\n",
        "                qk_scale (NoneFloat): value to scale the queries and keys by;\n",
        "                 if None, queries and keys are scaled by ``head_dim ** -0.5``\n",
        "                act_layer(nn.modules.activation): torch neural network layer class to use as activation\n",
        "                norm_layer(nn.modules.normalization): torch neural network layer class to use as normalization\n",
        "        \"\"\"\n",
        "\n",
        "        super().__init__()\n",
        "\n",
        "        ## Defining Parameters\n",
        "        self.num_heads = num_heads\n",
        "        self.Encoding_hidden_chan_mul = Encoding_hidden_chan_mul\n",
        "        self.depth = depth\n",
        "        self.token_len = token_len\n",
        "        self.num_tokens = num_tokens\n",
        "\n",
        "        ## Defining Token Processing Components\n",
        "        self.cls_token = nn.Parameter(torch.zeros(1, 1, self.token_len))\n",
        "        # self.cls_token = torch.transpose(self.cls_token, 0, 1)\n",
        "        self.pos_embed = nn.Parameter(data=get_sinusoid_encoding(num_tokens=self.num_tokens+1, token_len=self.token_len), requires_grad=False)\n",
        "\n",
        "        ## Defining Encoding blocks\n",
        "        self.blocks = nn.ModuleList([Encoding(dim = self.token_len,\n",
        "                                               num_heads = self.num_heads,\n",
        "                                               hidden_chan_mul = self.Encoding_hidden_chan_mul,\n",
        "                                               qkv_bias = qkv_bias,\n",
        "                                               qk_scale = qk_scale,\n",
        "                                               act_layer = act_layer,\n",
        "                                               norm_layer = norm_layer)\n",
        "             for i in range(self.depth)])\n",
        "\n",
        "        ## Defining Prediction Processing\n",
        "        self.norm = norm_layer(self.token_len)\n",
        "        self.head = nn.Linear(self.token_len, preds)\n",
        "\n",
        "        ## Make the class token sampled from a truncated normal distrobution\n",
        "        timm.layers.trunc_normal_(self.cls_token, std=.02)\n",
        "\n",
        "    def forward(self, x):\n",
        "        ## Assumes x is already tokenized\n",
        "\n",
        "        ## Get Batch Size\n",
        "        B = x.shape[0]\n",
        "        ## Concatenate Class Token\n",
        "        print(x.size())\n",
        "        # print(self.cls_token.expand(B, -1, -1))\n",
        "        x = torch.cat((self.cls_token.expand(B, -1, -1), x), dim=1)\n",
        "        print(x.size())\n",
        "        print(self.cls_token.size())\n",
        "        # x = torch.transpose(x, 0, 1)\n",
        "        # x = torch.cat((self.cls_token, x), dim=1)\n",
        "        # x = torch.transpose(x, 0, 1)\n",
        "        ## Add Positional Embedding\n",
        "        x = x + self.pos_embed\n",
        "        ## Run Through Encoding Blocks\n",
        "        for blk in self.blocks:\n",
        "            x = blk(x)\n",
        "        ## Take Norm\n",
        "        x = self.norm(x)\n",
        "        ## Make Prediction on Class Token\n",
        "        x = self.head(x[:, 0])\n",
        "        return x\n",
        "\n",
        "class MushroomViTModel(nn.Module):\n",
        "    def __init__(self,\n",
        "        img_size: tuple[int, int, int]=(3, 224, 224),\n",
        "        patch_size: int=16,\n",
        "        token_len: int=768,\n",
        "        preds: int=4,\n",
        "        num_heads: int=1,\n",
        "        Encoding_hidden_chan_mul: float=4.,\n",
        "        depth: int=12,\n",
        "        qkv_bias=False,\n",
        "        qk_scale=None,\n",
        "        act_layer=nn.GELU,\n",
        "        norm_layer=nn.LayerNorm):\n",
        "\n",
        "      \"\"\" VisTransformer Model\n",
        "\n",
        "      Args:\n",
        "        img_size (tuple[int, int, int]): size of input (channels, height, width)\n",
        "        patch_size (int): the side length of a square patch\n",
        "        token_len (int): desired length of an output token\n",
        "        preds (int): number of predictions to output\n",
        "        num_heads(int): number of attention heads in MSA\n",
        "        Encoding_hidden_chan_mul (float): multiplier to determine the number of hidden channels (features) in the NeuralNet component of the Encoding Module\n",
        "        depth (int): number of encoding blocks in the model\n",
        "        qkv_bias (bool): determines if the qkv layer learns an addative bias\n",
        "        qk_scale (NoneFloat): value to scale the queries and keys by;\n",
        "            if None, queries and keys are scaled by ``head_dim ** -0.5``\n",
        "        act_layer(nn.modules.activation): torch neural network layer class to use as activation\n",
        "        norm_layer(nn.modules.normalization): torch neural network layer class to use as normalization\n",
        "      \"\"\"\n",
        "      super().__init__()\n",
        "\n",
        "      ## Defining Parameters\n",
        "      self.img_size = img_size\n",
        "      C, H, W = self.img_size\n",
        "      self.patch_size = patch_size\n",
        "      self.token_len = token_len\n",
        "      self.num_heads = num_heads\n",
        "      self.Encoding_hidden_chan_mul = Encoding_hidden_chan_mul\n",
        "      self.depth = depth\n",
        "\n",
        "      ## Defining Patch Embedding Module\n",
        "      self.patch_tokens = Patch_Tokenization(img_size,\n",
        "              patch_size,\n",
        "              token_len)\n",
        "      self.num_tokens = self.patch_tokens.num_tokens\n",
        "\n",
        "      ## Defining ViT Backbone\n",
        "      self.backbone = ViT_Backbone(self.num_tokens,\n",
        "            preds,\n",
        "            self.token_len,\n",
        "            self.num_heads,\n",
        "            self.Encoding_hidden_chan_mul,\n",
        "            self.depth,\n",
        "            qkv_bias,\n",
        "            qk_scale,\n",
        "            act_layer,\n",
        "            norm_layer)\n",
        "      ## Initialize the Weights\n",
        "      self.apply(self._init_weights)\n",
        "\n",
        "    def _init_weights(self, m):\n",
        "      \"\"\" Initialize the weights of the linear layers & the layernorms\n",
        "      \"\"\"\n",
        "      ## For Linear Layers\n",
        "      if isinstance(m, nn.Linear):\n",
        "        ## Weights are initialized from a truncated normal distrobution\n",
        "        timm.layers.trunc_normal_(m.weight, std=.02)\n",
        "        if isinstance(m, nn.Linear) and m.bias is not None:\n",
        "          ## If bias is present, bias is initialized at zero\n",
        "          nn.init.constant_(m.bias, 0)\n",
        "      ## For Layernorm Layers\n",
        "      elif isinstance(m, nn.LayerNorm):\n",
        "        ## Weights are initialized at one\n",
        "        nn.init.constant_(m.weight, 1.0)\n",
        "        ## Bias is initialized at zero\n",
        "        nn.init.constant_(m.bias, 0)\n",
        "\n",
        "    @torch.jit.ignore ##Tell pytorch to not compile as TorchScript\n",
        "    def no_weight_decay(self):\n",
        "      \"\"\" Used in Optimizer to ignore weight decay in the class token\n",
        "      \"\"\"\n",
        "      return {'cls_token'}\n",
        "\n",
        "    def forward(self, x):\n",
        "      batch_size = x.shape[0]\n",
        "      x = self.patch_tokens(x)\n",
        "      x = self.backbone(x)\n",
        "      return x"
      ]
    },
    {
      "cell_type": "code",
      "source": [
        "# Загрузка датасета без аугментаций с преобразованием PIL --> torch.tensor()\n",
        "transform = transforms.ToTensor()\n",
        "\n",
        "root_train = '/content/mushroom_dataset/'\n",
        "data = MushroomDataset(root_train, transform=transform, target_size=(224, 224))"
      ],
      "metadata": {
        "id": "0brXXNJiiWNG"
      },
      "execution_count": 6,
      "outputs": []
    },
    {
      "cell_type": "code",
      "source": [
        "def run_epoch(model, data_loader, criterion, optimizer=None, device='cuda:0', is_test=False):\n",
        "    if is_test:\n",
        "        model.eval()\n",
        "    else:\n",
        "        model.train()\n",
        "\n",
        "    total_loss = 0\n",
        "    correct = 0\n",
        "    total = 0\n",
        "\n",
        "    # Переносим модель на устройство\n",
        "    model.to(device)\n",
        "\n",
        "    for batch_idx, (data, target) in enumerate(data_loader):\n",
        "        data, target = data.to(device), target.to(device)\n",
        "\n",
        "        if not is_test and optimizer is not None:\n",
        "            optimizer.zero_grad()\n",
        "        print(data.size(), target.size())\n",
        "        # output = torch.tensor([])\n",
        "        # loss = torch.tensor([])\n",
        "        # for img, label in  enumerate((data, target)):\n",
        "        #     output_img = model(img)\n",
        "        #     loss_img = criterion(output_img, label)\n",
        "        #     output.append(output_img)\n",
        "        #     loss.append(loss_img)\n",
        "        output = model(data)\n",
        "        print(output, output.size())\n",
        "        loss = criterion(output, target)\n",
        "\n",
        "        if not is_test and optimizer is not None:\n",
        "            loss.backward()\n",
        "            optimizer.step()\n",
        "\n",
        "        total_loss += loss.item()\n",
        "        pred = output.argmax(dim=1, keepdim=True)\n",
        "        correct += pred.eq(target.view_as(pred)).sum().item()\n",
        "        total += target.size(0)\n",
        "\n",
        "    return total_loss / len(data_loader), correct / total\n",
        "\n",
        "\n",
        "def train_model(model:nn.Module, train_loader, test_loader, epochs=10, lr=0.001, device='cuda:0'):\n",
        "    criterion = nn.CrossEntropyLoss()\n",
        "    # Поробуем SGD\n",
        "    optimizer = optim.SGD(model.parameters(), lr=0.007, momentum=0.9, weight_decay=0.0002)\n",
        "\n",
        "    train_losses, train_accs = [], []\n",
        "    test_losses, test_accs = [], []\n",
        "\n",
        "    best_acc = 0.0\n",
        "\n",
        "    for epoch in tqdm(range(epochs)):\n",
        "        train_loss, train_acc = run_epoch(model, train_loader, criterion, optimizer, device, is_test=False)\n",
        "        test_loss, test_acc = run_epoch(model, test_loader, criterion, None, device, is_test=True)\n",
        "\n",
        "        train_losses.append(train_loss)\n",
        "        train_accs.append(train_acc)\n",
        "        test_losses.append(test_loss)\n",
        "        test_accs.append(test_acc)\n",
        "\n",
        "        torch.save({\n",
        "                'epoch': epoch+1,\n",
        "                'model_params': model.state_dict(),\n",
        "                'optimizer': optimizer.state_dict(),\n",
        "                'train_losses': train_losses,\n",
        "                'train_accs': train_accs,\n",
        "                'test_losses': test_losses,\n",
        "                'test_accs': test_accs\n",
        "            }, f'compactCNN_last_checkpoit.pt')\n",
        "\n",
        "\n",
        "        if test_acc > best_acc:\n",
        "            best_acc = test_acc\n",
        "            torch.save({\n",
        "                'epoch': epoch+1,\n",
        "                'model_params': model.state_dict(),\n",
        "                'optimizer': optimizer.state_dict(),\n",
        "                'loss': test_loss,\n",
        "                'accuracy': test_acc\n",
        "            }, f'compactCNN_best_model.pt')\n",
        "\n",
        "\n",
        "    return {\n",
        "        'train_losses': train_losses,\n",
        "        'train_accs': train_accs,\n",
        "        'test_losses': test_losses,\n",
        "        'test_accs': test_accs\n",
        "    }"
      ],
      "metadata": {
        "id": "COTf_DsOoDrq"
      },
      "execution_count": 7,
      "outputs": []
    },
    {
      "cell_type": "code",
      "source": [
        "train_size = int(0.8 * len(data))\n",
        "test_size = len(data) - train_size\n",
        "\n",
        "# Делим на train, test выборки\n",
        "train_dataset, test_dataset = random_split(data, [train_size, test_size])\n",
        "\n",
        "# Создаём DataLoaders\n",
        "train_loader = DataLoader(train_dataset, batch_size=32, shuffle=True)\n",
        "test_loader = DataLoader(test_dataset, batch_size=32, shuffle=False)"
      ],
      "metadata": {
        "id": "06C5IUYqoGgJ"
      },
      "execution_count": 8,
      "outputs": []
    },
    {
      "cell_type": "code",
      "source": [
        "mushroom_vit = MushroomViTModel()\n",
        "\n",
        "metric_vit = train_model(mushroom_vit, train_loader, test_loader, epochs=20, lr=0.0005, device='cuda:0')"
      ],
      "metadata": {
        "colab": {
          "base_uri": "https://localhost:8080/"
        },
        "id": "7budHjlRoH-6",
        "outputId": "ac6e8868-fefb-4b70-b77e-8dd28ab6faa6"
      },
      "execution_count": 9,
      "outputs": [
        {
          "output_type": "stream",
          "name": "stderr",
          "text": [
            "\r  0%|          | 0/20 [00:00<?, ?it/s]"
          ]
        },
          "output_type": "stream",
          "name": "stderr",
          "text": [
            "\r  5%|▌         | 1/20 [04:08<1:18:39, 248.39s/it]"
          ]
        },
        {
          "output_type": "stream",
          "name": "stderr",
          "text": [
            "\r 10%|█         | 2/20 [08:21<1:15:25, 251.41s/it]"
          ]
        },
        {
          "output_type": "stream",
          "name": "stderr",
          "text": [
            "\r 15%|█▌        | 3/20 [12:31<1:10:58, 250.51s/it]"
          ]
        },
        {
          "output_type": "stream",
          "name": "stderr",
          "text": [
            "\r 20%|██        | 4/20 [16:46<1:07:20, 252.53s/it]"
          ]
        },
        {
          "output_type": "stream",
          "name": "stderr",
          "text": [
            "\r 25%|██▌       | 5/20 [21:05<1:03:41, 254.74s/it]"
          ]
        },
        {
          "output_type": "stream",
          "name": "stderr",
          "text": [
            "\r 30%|███       | 6/20 [25:19<59:24, 254.58s/it]  "
          ]
        },
        {
          "output_type": "stream",
          "name": "stderr",
          "text": [
            "\r 35%|███▌      | 7/20 [29:29<54:49, 253.06s/it]"
          ]
        },
        {
          "output_type": "stream",
          "name": "stderr",
          "text": [
            "\r 40%|████      | 8/20 [33:38<50:20, 251.73s/it]"
          ]
        },
        {
          "output_type": "stream",
          "name": "stderr",
          "text": [
            "\r 45%|████▌     | 9/20 [37:51<46:13, 252.12s/it]"
          ]
        },
        {
          "output_type": "stream",
          "name": "stderr",
          "text": [
            "\r 50%|█████     | 10/20 [42:03<41:59, 251.98s/it]"
          ]
        },
        {
          "output_type": "stream",
          "name": "stderr",
          "text": [
            "\r 55%|█████▌    | 11/20 [46:16<37:50, 252.23s/it]"
          ]
        },
        {
          "output_type": "stream",
          "name": "stderr",
          "text": [
            "\r 60%|██████    | 12/20 [50:26<33:32, 251.55s/it]"
          ]
        },
        {
          "output_type": "stream",
          "name": "stderr",
          "text": [
            "\r 65%|██████▌   | 13/20 [54:36<29:17, 251.11s/it]"
          ]
        },
        {
          "output_type": "stream",
          "name": "stderr",
          "text": [
            "\r 70%|███████   | 14/20 [58:48<25:08, 251.34s/it]"
          ]
        },
        {
          "output_type": "stream",
          "name": "stderr",
          "text": [
            "\r 75%|███████▌  | 15/20 [1:03:12<21:16, 255.25s/it]"
          ]
        },
        {
          "output_type": "stream",
          "name": "stderr",
          "text": [
            "\r 80%|████████  | 16/20 [1:07:28<17:01, 255.34s/it]"
          ]
        },
        {
          "output_type": "stream",
          "name": "stderr",
          "text": [
            "\r 85%|████████▌ | 17/20 [1:11:38<12:41, 253.86s/it]"
          ]
        },
        {
          "output_type": "stream",
          "name": "stderr",
          "text": [
            "\r 90%|█████████ | 18/20 [1:15:49<08:26, 253.12s/it]"
          ]
        },
        {
          "output_type": "stream",
          "name": "stderr",
          "text": [
            "\r 95%|█████████▌| 19/20 [1:20:00<04:12, 252.29s/it]"
          ]
        },
        {
          "output_type": "stream",
          "name": "stderr",
          "text": [
            "100%|██████████| 20/20 [1:24:11<00:00, 252.59s/it]\n"
          ]
        }
      ]
    },
    {
      "cell_type": "code",
      "source": [
        "def plot_training_history(history):\n",
        "    \"\"\"Визуализирует историю обучения\"\"\"\n",
        "    fig, (ax1, ax2) = plt.subplots(1, 2, figsize=(16, 9))\n",
        "\n",
        "    ax1.plot(history['train_losses'], label='Train Loss')\n",
        "    ax1.plot(history['test_losses'], label='Test Loss')\n",
        "    ax1.set_title('Loss')\n",
        "    ax1.grid(True)\n",
        "    ax1.legend()\n",
        "\n",
        "    ax2.plot(history['train_accs'], label='Train Acc')\n",
        "    ax2.plot(history['test_accs'], label='Test Acc')\n",
        "    ax2.set_title('Accuracy')\n",
        "    ax2.grid(True)\n",
        "    ax2.legend()\n",
        "\n",
        "    plt.tight_layout()\n",
        "    plt.show()"
      ],
      "metadata": {
        "id": "DfwYrRXFf2_t"
      },
      "execution_count": 10,
      "outputs": []
    },
    {
      "cell_type": "code",
      "source": [
        "plot_training_history(metric_vit)"
      ],
      "metadata": {
        "colab": {
          "base_uri": "https://localhost:8080/",
          "height": 613
        },
        "id": "tXbSDnK2f-XU",
        "outputId": "5a4015f2-37eb-4d71-819f-89b15621b7d2"
      },
      "execution_count": 13,
      "outputs": [
        {
          "output_type": "display_data",
          "data": {
            "text/plain": [
              "<Figure size 1600x900 with 2 Axes>"
            ],
            "image/png": "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\n"
          },
          "metadata": {}
        }
      ]
    }
  ]
}